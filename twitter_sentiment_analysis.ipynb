{
 "cells": [
  {
   "cell_type": "markdown",
   "metadata": {},
   "source": [
    "##### FETCHING TWEETS USING TWEEPY"
   ]
  },
  {
   "cell_type": "code",
   "execution_count": 1,
   "metadata": {},
   "outputs": [],
   "source": [
    "import tweepy\n",
    "import pandas as pd\n",
    "import numpy as np\n",
    "keys=pd.read_csv('twitter_api_keys.csv')"
   ]
  },
  {
   "cell_type": "code",
   "execution_count": 2,
   "metadata": {},
   "outputs": [],
   "source": [
    "# Variables that contains the credentials to access Twitter API\n",
    "access_token = keys['API Keys'][0]\n",
    "access_secret = keys['API Keys'][1]\n",
    "consumer_key = keys['API Keys'][2]\n",
    "consumer_secret = keys['API Keys'][3]"
   ]
  },
  {
   "cell_type": "code",
   "execution_count": 3,
   "metadata": {},
   "outputs": [],
   "source": [
    "# Create the authentication object\n",
    "authenticate = tweepy.OAuthHandler(consumer_key,consumer_secret) \n",
    "# Set the access token and access token secret\n",
    "authenticate.set_access_token(access_token,access_secret) \n",
    "# Creating the API object while passing in auth information\n",
    "api = tweepy.API(authenticate, wait_on_rate_limit = True,)"
   ]
  },
  {
   "cell_type": "code",
   "execution_count": 4,
   "metadata": {},
   "outputs": [
    {
     "name": "stdout",
     "output_type": "stream",
     "text": [
      "South Korean officials questioned the accuracy of news reports that Kim Jong-un was recovering from heart surgery.… https://t.co/c41Zr6GER2\n",
      "Morning briefing: Here's what you need to know to start your day https://t.co/XrCwNBRAH5\n",
      "For today, April 21, here’s how to follow the latest on the coronavirus outbreak. We’ll update this every day. \n",
      "\n",
      "🌎… https://t.co/NdVFfWC0Z8\n",
      "Educators in the U.S. say they want to teach from home during the coronavirus pandemic, but are fighting to limit w… https://t.co/r1auvzyrQ7\n",
      "At least 26,000 more people died during the coronavirus pandemic over the last month than official death counts rep… https://t.co/8sez8zHiCS\n",
      "President Trump portrayed suspending immigration as a bid to save Americans’ jobs amid the coronavirus pandemic. Im… https://t.co/l9mfD5L8LJ\n",
      "In January, at a restaurant in Guangzhou, China, an infected diner who was not yet feeling sick appeared to have sp… https://t.co/03vm00t6K3\n",
      "A letter to the editors of four British tabloids said that Harry and Meghan, who have relocated to Los Angeles and… https://t.co/iExibxGAqe\n",
      "In Opinion\n",
      "\n",
      " Siddharth Varadarajan writes: The coronavirus outbreak has allowed authoritarianism and anti-Muslim se… https://t.co/oM9kfxJvCg\n",
      "A hospital official in Israel asked why journalists could tour coronavirus wards in protective gear, but relatives… https://t.co/z6vu65KXzh\n",
      "Sometimes it feels like cognitive dissonance in Tokyo, where we're in a state of emergency but some people seem to… https://t.co/btGyrnvk97\n",
      "Business travel worldwide has stopped because of the coronavirus pandemic. When it does restart, it will be changed… https://t.co/pf5wiWRXkM\n",
      "One oil price went negative on Monday, signaling that there is no place to store all the crude the world is produci… https://t.co/2X4EmmpwSt\n",
      "Tears flowed down the cheeks of the muezzin as he made the call to prayer in an empty ancient mosque in Cairo. “It… https://t.co/5KPTSINZJW\n",
      "Hong Kong on Tuesday extended a range of social distancing measures to May 7 as a precaution, a day after reporting… https://t.co/KLVs7TgGIf\n",
      "When restaurants reopen, it may take more than putting tables six feet apart to prevent the spread of the coronavir… https://t.co/wSpW0NyUlU\n",
      "Singapore did almost everything right when it came to fighting the coronavirus. But now its caseload has spiked, a… https://t.co/Sl0d0F8Fwo\n",
      "RT @nytimesworld: Nurses from the Philippines and other developing countries have long made up for shortages in Western nations. Now they a…\n",
      "Europe morning briefing: Here's what you need to know to start your day https://t.co/Nyg7DXA81k\n",
      "In Opinion\n",
      "\n",
      "\"Calling this pandemic a war,\" says @adamwestbrook, is \"a useful cover for a power grab.\"\n",
      "https://t.co/fMcoxkaAAj\n",
      "Virgin Australia announced it had entered voluntary administration after the Australian government refused a bailou… https://t.co/uXbsqfcgkV\n",
      "Demand for oil is collapsing, and despite a deal by Saudi Arabia, Russia and other nations to cut production, the w… https://t.co/4PGJtv53QS\n",
      "In On Tech, @ShiraOvide talks with @KevinRoose about his new audio series “Rabbit Hole,” YouTube and the dangers of… https://t.co/WzhzLB4WfQ\n",
      "In Opinion\n",
      "\n",
      "Richard Levitan writes, \"I realized that we are not detecting the deadly pneumonia the virus causes ear… https://t.co/rusYv7OqEh\n",
      "RT @NYTNational: In Ohio, even as plans were being put in place to reopen, a state prison about an hour’s drive north of the capital became…\n",
      "RT @ShaneGoldmacher: NEW: It would take Joe Biden and the DNC raising almost $1 million every single day between now and November to catch…\n",
      "Data compiled by The New York Times from records of deaths in Istanbul indicate that Turkey is grappling with a far… https://t.co/sOOZ6enQKX\n",
      "A pastor at a Louisiana megachurch who was previously cited for defying the state’s coronavirus stay-at-home orders… https://t.co/DnZXR0VKSe\n",
      "Read updates in Chinese: 新冠病毒疫情最新消息\n",
      "https://t.co/RODpKuos87\n",
      "—Istanbul deaths suggest a wider coronavirus outbreak than Turkey admits\n",
      "—President Trump said he planned to close… https://t.co/Q7DzVsNRO5\n",
      "Joe Biden and the Democrats are nearly $187 million behind President Trump and the Republicans, new fund-raising fi… https://t.co/7agfXbGSzz\n",
      "North Korea’s leader, Kim Jong-un, is receiving treatment after undergoing a cardiovascular procedure earlier this… https://t.co/wQcOeBbt03\n",
      "An intense and chaotic scramble continues to unfold as hospitals, cities and states go out on their own to compete… https://t.co/k9eDLdScuF\n",
      "RT @jwpetersNYT: That didn’t take long.  https://t.co/V1IhlkKwcy\n",
      "Illustrators and graphic designers, including artists like Shepard Fairey and Maira Kalman, are creating public ser… https://t.co/2MiIVbevEg\n",
      "RT @nytimesarts: Are we at a fork in the road in history? Of course we can't know now, but \"The Plot Against America\" and other alt-history…\n",
      "Something bizarre happened in the oil markets on Monday: Prices fell so much that some traders paid buyers to take… https://t.co/xN7HFrecpd\n",
      "Breaking News: President Trump said he would sign an executive order to temporarily halt immigration to the U.S. as… https://t.co/RhOU50vTf5\n",
      "RT @kchangnyt: Why you may not want to rush back to eating out. https://t.co/zLgzwiSxS5\n",
      "The U.S. Supreme Court ruled that the Constitution banned non-unanimous jury verdicts in cases involving serious cr… https://t.co/XHGgKbvht0\n",
      "Sirio Maccioni — a Manhattan restaurateur whose restaurants, like Le Cirque, drew an international following that i… https://t.co/nD3xITEwUa\n",
      "RT @SteveLohr: The story of how a hurry-up collaboration of scientists, engineers, entrepreneurs, physicians and regulatory experts made a…\n",
      "As the coronavirus overwhelms the health care system, people with other illnesses struggle to find treatment\n",
      "https://t.co/iL11yh8Hs4\n",
      "Michelle Obama read one of her beloved children’s books aloud on Monday, live streaming to hundreds of thousands of… https://t.co/hntA3Ztc7W\n",
      "RT @NYTSports: \"The Last Dance\" is as much about Michael Jordan reaffirming his legacy in the age of LeBron James as anything else. https:/…\n",
      "@MichaelPaulson Broadway is now a sort of theatrical petrified forest, fossilized on March 12. See more photos of w… https://t.co/TjF4Eq5s22\n",
      "@MichaelPaulson “It’s hard to say what was the more unsettling sight,” writes @MichaelPaulson. “The marquees gone d… https://t.co/HLGedhsFSX\n",
      "@MichaelPaulson Here’s something you don’t see very often: the ruby-red glass steps at the TKTS booth, totally unoc… https://t.co/1ulS4qnVTO\n",
      "@MichaelPaulson There is beauty, of course; without the crowds, it is easier to see the architectural grandeur. https://t.co/a0YyDkW1Wb\n",
      "@MichaelPaulson Each of these theaters has its own story to tell, its own interrupted journey.\n",
      "\n",
      "Atop the Booth Thea… https://t.co/BDZSoH0UOe\n",
      "Broadway was booming. Then the coronavirus turned New York’s theater district into a ghost town. \n",
      "\n",
      "Our reporter… https://t.co/lGKJoMoiAm\n",
      "Evening Briefing: Here's what you need to know at the end of the day https://t.co/hfgignb9Aw\n",
      "RT @zinoman: New column is on the business of live comedy under lockdown with a focus on those experimenting with new online models. https:…\n",
      "Less than a month ago, the stock market was in free fall. Then it rebounded — even as millions of people lose their… https://t.co/nIcoP7lekA\n",
      "RT @SominiSengupta: A climate change crash course for your quarantine.\n",
      "\n",
      "The science is clear. \n",
      "\n",
      "There's a lot the world can do to avert the…\n",
      "It took just a matter of days to shut down New York City, once the coronavirus took hold. Restarting it will take m… https://t.co/rYNYojGgaF\n",
      "This large, fluffy pancake is excellent for breakfast, brunch, lunch or dessert any time of year. And it comes toge… https://t.co/uKmp9hLYAM\n",
      "The Australian government said on Monday that Google and Facebook would have to pay media outlets for news content… https://t.co/EqjE74vnYm\n",
      "RT @brianmrosenthal: At one of the nation's largest nursing homes, conditions are so dire that many nurses have stopped coming to work. A t…\n",
      "The Tesla Quartet, an acclaimed young ensemble, was making a fragile but sustainable living. Then came the coronavi… https://t.co/ZFWCmeuVnY\n",
      "RT @nytopinion: \"Calling this pandemic a war,\" says @adamwestbrook, is \"a useful cover for a power grab\" https://t.co/iKKe9tnbEn https://t.…\n",
      "The coronavirus pandemic has taken an incalculable death toll. We're putting names and faces to the numbers. Here a… https://t.co/IZort3C2Qu\n",
      "Luis Sepúlveda, a Chilean writer whose stay among Indigenous people in the Amazon led to his most celebrated novel… https://t.co/giJwKNRcBD\n",
      "RT @cflav: Here's a central dilemma of climate adaptation: Should you help people in risky areas stay in their homes, even if it puts them…\n",
      "If people with no symptoms are spreading the coronavirus, as some studies suggest, it may be time to give face mask… https://t.co/KYzj2i6Ya8\n",
      "Échale un vistazo a los distintos tipos de mascarillas que puedes encontrar. Te decimos cómo funcionan, qué debes c… https://t.co/pBFXl0jsKI\n",
      "One in 3 jobs held by women in the U.S. has been designated as essential during the coronavirus outbreak. And nonwh… https://t.co/AgtydR0XvW\n",
      "Brands are aware that people are glued to their phones and they are desperate to engage. But they're trying to proc… https://t.co/zJMkbrZDp4\n",
      "If wearing a face mask makes your glasses fog up, health workers have a few tricks that might help https://t.co/aiKuaODtos\n",
      "RT @jdavidgoodman: NEW: It only took a few days for the New York City we knew to vanish. \n",
      "\n",
      "Getting it back will take far longer. \n",
      "\n",
      "“I don’t…\n",
      "Looking for a book about climate change? Here are 21 book recommendations, based on what you’re in the mood to read. https://t.co/kzGjGqXeQH\n",
      "“None of us want to say bye to our family. But it’s really a gift,” said one family member about an Israeli hospita… https://t.co/WywEBB0xeS\n",
      "An Ohio prison is now the largest reported source of coronavirus infections in the U.S., as the outbreak continues… https://t.co/jW0ZZsDjK6\n",
      "RT @nytimesbooks: With millions of people told to stay at home, we'd love to know: What's been on your pandemic reading list? https://t.co/…\n",
      "The coronavirus pandemic has taken an incalculable death toll. We're putting names and faces to the numbers. Here a… https://t.co/S5ZsMnrpbF\n",
      "“I really enjoy each one of my things when I’m doing it, and when I’m not doing it, I miss it.” Beryl Bernay was an… https://t.co/6cPw4hLdZA\n",
      "Hundreds of boaters stuck in the Caribbean have converged on the U.S. Virgin Islands, but there are fears that thei… https://t.co/u5RkSWt4LX\n",
      "RT @MichaelPaulson: New York's theater district is frozen in time -- stilled by the pandemic. Here's what it looks like. https://t.co/4B6Ou…\n",
      "To understand how bad climate change is, we need to look at the Arctic, our reporter @henryfountain explains. “In l… https://t.co/ursLGxGsgS\n",
      "Breaking News: Something bizarre happened in the markets — the price of a barrel of oil went negative… https://t.co/554L6t3dKa\n",
      "The coronavirus has cut a devastating path through the Detroit Police Department. The head of the homicide departme… https://t.co/vo3HiQcTcv\n",
      "The NYC subway system rebounded from disrepair in the 1970s. It survived 9/11, Hurricane Sandy and turned a corner… https://t.co/6tztPuqiH1\n",
      "RT @NYTObits: Sirio Maccioni made Le Cirque a headquarters for Manhattan’s rich and powerful in the 1980s and ’90s. He has died at 88. http…\n",
      "Ironing out a will and choosing a guardian for their 18-month-old son: A husband and wife who work in New York City… https://t.co/OUUUG8eFfi\n",
      "Covid-19, the illness caused by the coronavirus, is arguably the leading cause of death in the U.S. right now. \n",
      "\n",
      "Mo… https://t.co/fP6YOj4tN5\n",
      "RT @nytopinion: Join columnist @JenSeniorNY for a conversation about supporting small businesses during the coronavirus crisis and why it t…\n",
      "Severe weather brought new deadly storms to Alabama and other Southern states on Sunday and Monday, the second cons… https://t.co/G636LdMyC4\n",
      "If your home isn’t that big, finding a place to exercise while you’re confined there may seem nearly impossible. He… https://t.co/9jv9IqnmYC\n",
      "RT @sapna: RewardStyle, a platform that connects influencers and fashion brands, shared guidelines last month on how to soft sell during th…\n",
      "Richard Branson has offered to put up his private Caribbean island as collateral as he publicly pleads with the Bri… https://t.co/e3dhR0ynNs\n",
      "Facing a shortage of coronavirus tests, Gov. Larry Hogan of Maryland and his wife, Yumi Hogan, negotiated with supp… https://t.co/oIVE2y9LTU\n",
      "In 1970, the U.S. celebrated its first Earth Day, a day of climate activism that preceded the passing of the Clean… https://t.co/gM6Iuzt84m\n",
      "Breaking News: Benjamin Netanyahu and Benny Gantz agreed to a unity government in Israel, keeping Netanyahu in offi… https://t.co/5e3wf18sog\n",
      "RT @VVFriedman: \"I just burst into tears\" - Anna Wintour, on fashion solidarity during the pandemic: https://t.co/gLVdXU7IRa\n",
      "Former Dropbox engineers say Zoom’s security woes can be traced back two years or more, and they argue that the com… https://t.co/VrtA4hs7rW\n",
      "New York, New Jersey and Connecticut all reported their lowest number of coronavirus deaths in days on Sunday… https://t.co/r0PBgge0lO\n",
      "\"The president who ran as an insurgent in 2016, is most comfortable raging against the machine of government, even… https://t.co/cTghkXKAaH\n",
      "For more New York Times climate coverage, be sure to follow @nytclimate https://t.co/mMoRUedWcy\n",
      "Do personal choices matter for the climate? “Personal actions and international cooperation are inextricably linked… https://t.co/BszaIBfYTn\n",
      "Can insurance protect us? “There’s another fight going on over a seemingly simple question: As climate change incre… https://t.co/S3nxOuGRPp\n",
      "Do environmental rules matter? “As a reporter in Washington for more than 20 years, I’ve had a front-row seat to th… https://t.co/mOu6rdx6W6\n",
      "How do we stop fossil fuel emissions? @bradplumer outlines a basic road map if we want to zero out emissions, which… https://t.co/Xk0Q5ZQV1M\n",
      "Who is influencing key climate decisions? “My job as a journalist looking at the intersection of climate and indust… https://t.co/7PvwHTaeXD\n",
      "How do scientists know what they know? @KendraWrites explains the tools that scientists use to measure ocean temper… https://t.co/yG1NCoLNdg\n",
      "How bad is climate change right now? To understand, we need to look at the Arctic, our reporter @henryfountain expl… https://t.co/P5jhHqtdEL\n",
      "How bad is climate change now? How do scientists know what they know? Do our personal choices matter for the climat… https://t.co/vxP255Xh4q\n",
      "RT @jswatz: I've heard people say that, with the virus dominating  the news, climate change coverage has disappeared. Well, not at The New…\n",
      "While hundreds of food banks were forced to close, New York City's volunteer pool vastly expanded. Air pollution is… https://t.co/RpDQoZr0V1\n",
      "If the 50th anniversary of Earth Day has inspired you to finally read a book about climate change, we’re here to he… https://t.co/CtOk5E3mXZ\n",
      "RT @mikiebarb: On today’s Daily: the next year—or two, or three—of the pandemic, according to Donald G McNeil Jr, who hasn’t gotten it wron…\n",
      "The situation in Singapore suggests that it is unrealistic for the United States, Europe and the rest of the world… https://t.co/llv0TJbQpv\n",
      "In Opinion\n",
      "\n",
      "@CharlesMBlow writes, \"Let me be clear: Under no circumstance should these briefings be carried live. E… https://t.co/DgTta7iU9q\n",
      "Nurses from the Philippines and other developing countries have long made up for shortages in Western nations. Now… https://t.co/pELVT8T9W9\n",
      "Shake Shack, the fast-food chain, said that it was returning a $10 million loan from a federal program to help smal… https://t.co/RW4QFV0uVM\n",
      "Hong Kong reported no new coronavirus cases on Monday, the first time since a second wave of imported infections hi… https://t.co/rJtUmZlIEY\n",
      "Smaller stores in Germany were allowed to open for the first time in nearly a month, but Germans are still required… https://t.co/6dmM7w0Gyr\n",
      "RT @PamelaPaulNYT: There are hundreds of books about climate change, so how do you know which ones are worthwhile? Editors at the Book Revi…\n",
      "RT @andrewrsorkin: What's going to happen to summer internships this year? Everything you wanted to know below...\n",
      "https://t.co/7EICriG1eN\n",
      "\"You could call these 10 hours a walk down memory lane. But that’d be like calling Mardi Gras a parade,\"… https://t.co/7E6G07ugH9\n",
      "RT @maggieNYT: Some of Trump's advisers are blunt that they think his encouragement for the protesters isn't good public health policy but…\n",
      "—New York State will test 3,000 people for antibodies to the coronavirus, starting today\n",
      "—Deaths in the state from… https://t.co/TtU0v57i1o\n",
      "Called “the last of the adventurers,” Peter Beard photographed African fauna at great personal risk, and well into… https://t.co/dGUQX7PjkI\n",
      "Immunity passports. Stop-start lockdowns. Strategic self-infection. This is what our new normal might look like. Li… https://t.co/kMApt7LIGT\n",
      "Canadian authorities are searching for a motive after a gunman who appeared to be dressed as an officer and was dri… https://t.co/q3YkJyg2xF\n",
      "For today, April 20, here’s how to follow the latest on the coronavirus outbreak. We’ll update this every day.\n",
      " \n",
      "🌎… https://t.co/baLevSDXqE\n",
      "For years, she was a rare princess from Saudi Arabia who spoke her mind to the world. And she got away with it — un… https://t.co/eaFIhm7eSK\n",
      "Morning briefing: Here's what you need to know to start your day https://t.co/Ip81fiBtcy\n",
      "RT @NYTScience: Some psychologists have compared the coronavirus’s effects to the aftermath of a natural disaster, except the disaster is m…\n",
      "The U.S. military is sharply reducing its emergency casualty evacuation services in West Africa, raising concerns t… https://t.co/xGVRuU51Dr\n",
      "RT @hkbeech: As we proceed with our lives in coronavirus lockdown, consider how the caged birds sing in Indonesia, by @RCPaddock and @uleti…\n",
      "Leer en español https://t.co/7Nc2jysfEm\n",
      "Ler em português https://t.co/VMprxhxm82\n",
      "Though Brazil's 1988 Constitution confers expansive rights to Indigenous people, a form of reparations for centurie… https://t.co/9ObT4a0zC9\n",
      "The government's aim with Indigenous tribes \"is to force them from their lands and turn them into ordinary citizens… https://t.co/50yO9sH7Bk\n",
      "President Jair Bolsonaro of Brazil is keeping his promises about expanding development in the Amazon. And for many… https://t.co/PBB1Q694ua\n",
      "When Queen Elizabeth II turns 94 on Tuesday, for the first time in her nearly seven-decade reign her birthday will… https://t.co/90VQDkloAH\n",
      "After five weeks of forced closures, Danish hairdressers will face a rush of overdue root touch ups and bang trims… https://t.co/cWVlaQEbM3\n",
      "The Charles de Gaulle aircraft carrier is the crown jewel of France's navy. Pride has given way to finger-pointing… https://t.co/8g7JU3Ggsc\n",
      "Fewer than 2,000 working ventilators have to serve hundreds of millions of people in public hospitals across 41 Afr… https://t.co/m4rvTbPP0y\n",
      "RT @MujMash: \"The notion of 'reduced violence' in Afghanistan has been a moving target for American officials for weeks, as the Taliban cla…\n",
      "Other nations, including the United States, are still struggling to test for infections. But Germany is doing that… https://t.co/f5X58JRB7p\n",
      "Many people are using video conferencing to play traditional, real-life board games with those who are sheltering i… https://t.co/AqKopGMfyF\n",
      "At least 40 staff members in Afghanistan’s presidential palace have tested positive for the coronavirus, Afghan off… https://t.co/0fMTe6kQc3\n",
      "RT @motokorich: Always a pleasure to work with @NorikoHayashi_ , who took such evocative photos of Tokyo in a state of emergency, still out…\n",
      "Asian stocks were mixed midday on Monday, as news of the coronavirus outbreak’s relentless spread overcame signs of… https://t.co/Njd5ETHR14\n",
      "Europe morning briefing: Here's what you need to know to start your day https://t.co/FUBPSvsgBz\n",
      "The United States is considering pulling back front-line C.I.A. personnel from bases in Afghanistan in its latest e… https://t.co/GuAGqDdnap\n",
      "RT @MujMash: For 315 days, this 60-year old has been on top of an 82-foot traffic camera tower, protesting against the \"dirty underside\" of…\n",
      "News Analysis: China’s relationship with the United States has already cratered, despite a rhetorical truce reached… https://t.co/UNmKQkHVcU\n",
      "RT @nytimesworld: \"We are about to look into the matter to see if the U.S. leadership seeks anything in feeding the ungrounded story into t…\n",
      "Hollywood production has ground to a halt because of the coronavirus pandemic — leaving stars, stylists, directors,… https://t.co/vfBcpq4dOn\n",
      "RT @danielle_ivory: The Coronavirus antibody tests, many of which are made in China without FDA approval, are often inaccurate. Some doctor…\n",
      "Komi, a remote region in Russia that's nearly as big as California but only has a handful of mostly decrepit hospit… https://t.co/lyVPM28dH4\n",
      "RT @PekingMike: “The Chinese government “is going to discover the cost of not having a significant presence of reporters on the ground,” sa…\n",
      "Read updates in Chinese: 新冠病毒疫情最新消息 https://t.co/J2cOPthIyD\n",
      "—Brazil's president cheered anti-quarantine protests that called for a return to military rule\n",
      "—Chile will issue “i… https://t.co/4ogZnLtWh9\n",
      "Thousands of animals in Spain have been left behind amid one of the world’s largest and deadliest coronavirus outbr… https://t.co/CvbeG0r8du\n",
      "In Opinion\n",
      "\n",
      "\"This week’s public displays of defiance — a march for the freedom to be infected — are the logical con… https://t.co/80cUVbzj4U\n",
      "\"If we can take the pressure from them even if it’s for a week or two, we know that we have done something good.\" B… https://t.co/HpFF3GA653\n",
      "RT @motokorich: So many countries have gone through the trajectory from denial to tragedy. For weeks, Japan seemed on a different path. Now…\n",
      "The candor Michael Jordan unleashes — providing a window into his drive and discussing a lifetime of triumphs and c… https://t.co/hcBblvZjUV\n",
      "The gunman who went on a shooting rampage in Nova Scotia killed at least 16 people, Canada’s national broadcaster s… https://t.co/aixqw8aZaF\n",
      "\"The United States made its point — but paid a big price for it,\" writes our media columnist @benyt. \"To read the c… https://t.co/Y3ohYie3a6\n",
      "By the time Luis Arellano was finally admitted to a hospital — the third one he visited — his body had already been… https://t.co/oqhd3jYTE7\n",
      "India's coronavirus lockdown is being pursued with remarkable zeal, raising concerns about how its enforcement — of… https://t.co/QbqSvViSrU\n",
      "Healthcare workers confronted people protesting stay-at-home orders in Denver and blocked their cars on Sunday, acc… https://t.co/nIZpxJqUCu\n",
      "Both Democratic and Republican governors have bristled at the Trump administration's claims that the supply of coro… https://t.co/I8kGSx15mZ\n",
      "A decade after Deepwater Horizon, the worst offshore oil spill in U.S. history, all 7 members of the bipartisan nat… https://t.co/6UW6Bi2ehi\n",
      "On Sunday, President Trump said he'd use the Defense Production Act to increase production of test swabs but provid… https://t.co/OApu8w9Pdh\n",
      "The family of Peter Beard, the artist and wildlife photographer who disappeared last month, has confirmed that his… https://t.co/zLDjI7UT0C\n",
      "If you’re worried that lockdown might be stressing out your child, experts told @nytparenting that these silent sig… https://t.co/WTIw8aCCQT\n",
      "In Opinion\n",
      "\n",
      "\"Milwaukee, Chicago and New Orleans have all seen black people absorbing the full force of the outbreak… https://t.co/obITNXY32J\n",
      "RT @motokorich: In Tokyo, under a state of emergency, people still seem seduced by magical thinking, believing that what is happening elsew…\n",
      "Though you may be tempted to add extra pasta, the dish will be plenty filling with a whole pound of brussels sprouts\n",
      "https://t.co/jV3TuBKKfM\n",
      "After receiving an anonymous tip last Monday, police found 17 bodies in bags in a small holding room in an Andover,… https://t.co/O3LjPgzXMg\n",
      "On today’s episode of “The Sunday Read,” we look at the star-crossed life of Sara Seager, an astrophysicist obsesse… https://t.co/JBuyXrr60z\n",
      "2 high schoolers in Carrollton, Georgia, are \"no longer students\" in the district, school officials said, after the… https://t.co/D3pmN30H9t\n",
      "At least 10 people, including a police officer, were killed after a 12-hour shooting rampage in Nova Scotia, Canada… https://t.co/V3vh8MR0IQ\n",
      "A gunman hijacked a public bus in Texas on Sunday morning, prompting an hourlong police chase through several citie… https://t.co/pYHnuhWLGY\n",
      "Critic’s Notebook: “The appeal of the coronavirus nature genre is, in part, its subtle massaging of the human ego,”… https://t.co/FoxKM1CXdb\n",
      "“Food workers are now first responders.”\n",
      "\n",
      "Many school cafeterias in the U.S. are now operating more like community… https://t.co/7dR0I6frIF\n",
      "In Opinion\n",
      "\n",
      "“We’re going to bet that we can spin through our daily lives — work, shopping, school, travel — without… https://t.co/mihqdD7ZmQ\n",
      "RT @TheSteinLine: With seven hours to go … our @nytimes preview of The Last Dance\n",
      "\n",
      "The great @Wesley_Morris' review: https://t.co/eyxWdqRdI…\n",
      "What strikes David Van De Carr, a respiratory therapist, is the kindness of his Manhattan hospital colleagues. \n",
      "\n",
      "\"W… https://t.co/LDFDsnCF88\n",
      "The White House and congressional Democrats are closing in on a $450 billion economic relief deal for small busines… https://t.co/BdVQqny5Ow\n",
      "Slammed by the coronavirus pandemic, the U.S. Census Bureau postponed crucial portions of the count for the third t… https://t.co/ZhOrN2agNz\n",
      "The prolonged shutdown of the sports world is taking a huge financial toll, but comeback plans all have numerous pu… https://t.co/t5KieboQ8P\n",
      "More than 200,000 truck drivers delivering goods across the U.S. are women. Many of them, including Ingrid Brown, a… https://t.co/Wxyhh1YhHo\n",
      "The coronavirus pandemic has been particularly devastating to the United States's biggest cities. It comes as the c… https://t.co/3jJMrMFkaS\n",
      "Facebook plans to introduce the Facebook Gaming mobile app on Monday, the social network said, in its most decisive… https://t.co/6A1L0sVZ9g\n",
      "Visitors to the western end of Fire Island are greeted by a sign saying “Stop, turn around, go back.” \n",
      "\n",
      "As in many… https://t.co/96eGbFndz6\n",
      "Wild songbirds are disappearing at a tremendous rate across Indonesia, officials and conservationists say. Much of… https://t.co/YhDyzR2Y45\n",
      "Read our full investigation into the state of antibody testing in the U.S. by @steveeder, @mega2e and @apoorva_nyc https://t.co/duXvbQ5tZi\n",
      "Accurate antibody testing will be essential to reopening the U.S., political leaders and some health officials have… https://t.co/SFuQYEtYi9\n",
      "Marketed to doctors and businesses so that they can screen workers, some rapid antibody tests cost $60 to $115 and… https://t.co/LGragSQqD9\n",
      "The FDA eased its rules and allowed antibody tests, many made in China, to be sold in the U.S. without formal revie… https://t.co/NsnWGKTDku\n",
      "Many scientists and political leaders say the country is nowhere close to deploying enough diagnostic and antibody… https://t.co/2acC9QAEeL\n",
      "Our reporters spoke to dozens of people for this article, including regulators, doctors, researchers, patients, pub… https://t.co/fpqQNe2Qbg\n",
      "Blood tests for coronavirus antibodies are seen as crucial to assess the reach of the pandemic, restart the U.S. ec… https://t.co/YjhmQKFjzB\n",
      "North Korea denied President Trump’s claim that its leader, Kim Jong-un, had sent a letter to him, and warned that… https://t.co/lnv5WwF7DK\n"
     ]
    }
   ],
   "source": [
    "# tweets from a specific user\n",
    "ny_tweets = api.user_timeline('@nytimes',count=200)\n",
    "for tweets in ny_tweets:\n",
    "    print(tweets.text)"
   ]
  },
  {
   "cell_type": "code",
   "execution_count": 5,
   "metadata": {},
   "outputs": [],
   "source": [
    "# fuction to extract data from tweet object\n",
    "def extract_tweet(tweet_object):\n",
    "    # create empty list\n",
    "    tweet_list =[]\n",
    "    # loop through tweet objects\n",
    "    for tweet in tweet_object:\n",
    "        tweet_id = tweet.id # unique integer identifier for tweet\n",
    "        text = tweet.text # utf-8 text of tweet\n",
    "        created_at = tweet.created_at # utc time tweet created\n",
    "        source = tweet.source # utility used to post tweet\n",
    "        retweets = tweet.retweet_count # number of times this tweet retweeted\n",
    "        favorites = tweet.favorite_count # number of time this tweet liked\n",
    "        # append attributes to list\n",
    "        tweet_list.append({'tweet_id':tweet_id, \n",
    "                          'text':text, \n",
    "                          'time':created_at, \n",
    "                          'source':source, \n",
    "                          'retweets':retweets,\n",
    "                          'favorites':favorites})\n",
    "    # create dataframe   \n",
    "    df = pd.DataFrame(tweet_list, columns=['tweet_id','text','time','source','retweets','favorites'])\n",
    "    return df\n",
    "\n",
    "\n",
    "df = extract_tweet(ny_tweets)"
   ]
  },
  {
   "cell_type": "code",
   "execution_count": 6,
   "metadata": {},
   "outputs": [
    {
     "data": {
      "text/html": [
       "<div>\n",
       "<style scoped>\n",
       "    .dataframe tbody tr th:only-of-type {\n",
       "        vertical-align: middle;\n",
       "    }\n",
       "\n",
       "    .dataframe tbody tr th {\n",
       "        vertical-align: top;\n",
       "    }\n",
       "\n",
       "    .dataframe thead th {\n",
       "        text-align: right;\n",
       "    }\n",
       "</style>\n",
       "<table border=\"1\" class=\"dataframe\">\n",
       "  <thead>\n",
       "    <tr style=\"text-align: right;\">\n",
       "      <th></th>\n",
       "      <th>tweet_id</th>\n",
       "      <th>text</th>\n",
       "      <th>time</th>\n",
       "      <th>source</th>\n",
       "      <th>retweets</th>\n",
       "      <th>favorites</th>\n",
       "    </tr>\n",
       "  </thead>\n",
       "  <tbody>\n",
       "    <tr>\n",
       "      <th>0</th>\n",
       "      <td>1252567790713810944</td>\n",
       "      <td>South Korean officials questioned the accuracy...</td>\n",
       "      <td>2020-04-21 12:00:07</td>\n",
       "      <td>SocialFlow</td>\n",
       "      <td>59</td>\n",
       "      <td>108</td>\n",
       "    </tr>\n",
       "    <tr>\n",
       "      <th>1</th>\n",
       "      <td>1252562739966480384</td>\n",
       "      <td>Morning briefing: Here's what you need to know...</td>\n",
       "      <td>2020-04-21 11:40:03</td>\n",
       "      <td>SocialFlow</td>\n",
       "      <td>53</td>\n",
       "      <td>142</td>\n",
       "    </tr>\n",
       "    <tr>\n",
       "      <th>2</th>\n",
       "      <td>1252559439976071169</td>\n",
       "      <td>For today, April 21, here’s how to follow the ...</td>\n",
       "      <td>2020-04-21 11:26:56</td>\n",
       "      <td>Twitter Web App</td>\n",
       "      <td>27</td>\n",
       "      <td>47</td>\n",
       "    </tr>\n",
       "    <tr>\n",
       "      <th>3</th>\n",
       "      <td>1252557721741778946</td>\n",
       "      <td>Educators in the U.S. say they want to teach f...</td>\n",
       "      <td>2020-04-21 11:20:06</td>\n",
       "      <td>SocialFlow</td>\n",
       "      <td>100</td>\n",
       "      <td>303</td>\n",
       "    </tr>\n",
       "    <tr>\n",
       "      <th>4</th>\n",
       "      <td>1252552683954847745</td>\n",
       "      <td>At least 26,000 more people died during the co...</td>\n",
       "      <td>2020-04-21 11:00:05</td>\n",
       "      <td>SocialFlow</td>\n",
       "      <td>274</td>\n",
       "      <td>381</td>\n",
       "    </tr>\n",
       "    <tr>\n",
       "      <th>...</th>\n",
       "      <td>...</td>\n",
       "      <td>...</td>\n",
       "      <td>...</td>\n",
       "      <td>...</td>\n",
       "      <td>...</td>\n",
       "      <td>...</td>\n",
       "    </tr>\n",
       "    <tr>\n",
       "      <th>195</th>\n",
       "      <td>1251938334093475844</td>\n",
       "      <td>The FDA eased its rules and allowed antibody t...</td>\n",
       "      <td>2020-04-19 18:18:53</td>\n",
       "      <td>Twitter Web App</td>\n",
       "      <td>17</td>\n",
       "      <td>21</td>\n",
       "    </tr>\n",
       "    <tr>\n",
       "      <th>196</th>\n",
       "      <td>1251938332034191371</td>\n",
       "      <td>Many scientists and political leaders say the ...</td>\n",
       "      <td>2020-04-19 18:18:52</td>\n",
       "      <td>Twitter Web App</td>\n",
       "      <td>23</td>\n",
       "      <td>46</td>\n",
       "    </tr>\n",
       "    <tr>\n",
       "      <th>197</th>\n",
       "      <td>1251938330318692352</td>\n",
       "      <td>Our reporters spoke to dozens of people for th...</td>\n",
       "      <td>2020-04-19 18:18:52</td>\n",
       "      <td>Twitter Web App</td>\n",
       "      <td>20</td>\n",
       "      <td>44</td>\n",
       "    </tr>\n",
       "    <tr>\n",
       "      <th>198</th>\n",
       "      <td>1251938328548704257</td>\n",
       "      <td>Blood tests for coronavirus antibodies are see...</td>\n",
       "      <td>2020-04-19 18:18:52</td>\n",
       "      <td>Twitter Web App</td>\n",
       "      <td>193</td>\n",
       "      <td>405</td>\n",
       "    </tr>\n",
       "    <tr>\n",
       "      <th>199</th>\n",
       "      <td>1251935454724788224</td>\n",
       "      <td>North Korea denied President Trump’s claim tha...</td>\n",
       "      <td>2020-04-19 18:07:26</td>\n",
       "      <td>SocialFlow</td>\n",
       "      <td>876</td>\n",
       "      <td>2484</td>\n",
       "    </tr>\n",
       "  </tbody>\n",
       "</table>\n",
       "<p>200 rows × 6 columns</p>\n",
       "</div>"
      ],
      "text/plain": [
       "                tweet_id                                               text  \\\n",
       "0    1252567790713810944  South Korean officials questioned the accuracy...   \n",
       "1    1252562739966480384  Morning briefing: Here's what you need to know...   \n",
       "2    1252559439976071169  For today, April 21, here’s how to follow the ...   \n",
       "3    1252557721741778946  Educators in the U.S. say they want to teach f...   \n",
       "4    1252552683954847745  At least 26,000 more people died during the co...   \n",
       "..                   ...                                                ...   \n",
       "195  1251938334093475844  The FDA eased its rules and allowed antibody t...   \n",
       "196  1251938332034191371  Many scientists and political leaders say the ...   \n",
       "197  1251938330318692352  Our reporters spoke to dozens of people for th...   \n",
       "198  1251938328548704257  Blood tests for coronavirus antibodies are see...   \n",
       "199  1251935454724788224  North Korea denied President Trump’s claim tha...   \n",
       "\n",
       "                   time           source  retweets  favorites  \n",
       "0   2020-04-21 12:00:07       SocialFlow        59        108  \n",
       "1   2020-04-21 11:40:03       SocialFlow        53        142  \n",
       "2   2020-04-21 11:26:56  Twitter Web App        27         47  \n",
       "3   2020-04-21 11:20:06       SocialFlow       100        303  \n",
       "4   2020-04-21 11:00:05       SocialFlow       274        381  \n",
       "..                  ...              ...       ...        ...  \n",
       "195 2020-04-19 18:18:53  Twitter Web App        17         21  \n",
       "196 2020-04-19 18:18:52  Twitter Web App        23         46  \n",
       "197 2020-04-19 18:18:52  Twitter Web App        20         44  \n",
       "198 2020-04-19 18:18:52  Twitter Web App       193        405  \n",
       "199 2020-04-19 18:07:26       SocialFlow       876       2484  \n",
       "\n",
       "[200 rows x 6 columns]"
      ]
     },
     "execution_count": 6,
     "metadata": {},
     "output_type": "execute_result"
    }
   ],
   "source": [
    "df"
   ]
  },
  {
   "cell_type": "code",
   "execution_count": 7,
   "metadata": {},
   "outputs": [
    {
     "data": {
      "text/plain": [
       "0      South Korean officials questioned the accuracy...\n",
       "1      Morning briefing: Here's what you need to know...\n",
       "2      For today, April 21, here’s how to follow the ...\n",
       "3      Educators in the U.S. say they want to teach f...\n",
       "4      At least 26,000 more people died during the co...\n",
       "                             ...                        \n",
       "195    The FDA eased its rules and allowed antibody t...\n",
       "196    Many scientists and political leaders say the ...\n",
       "197    Our reporters spoke to dozens of people for th...\n",
       "198    Blood tests for coronavirus antibodies are see...\n",
       "199    North Korea denied President Trump’s claim tha...\n",
       "Name: text, Length: 200, dtype: object"
      ]
     },
     "execution_count": 7,
     "metadata": {},
     "output_type": "execute_result"
    }
   ],
   "source": [
    "df['text']"
   ]
  },
  {
   "cell_type": "markdown",
   "metadata": {},
   "source": [
    "###### REMOVING THE USER HANDLES"
   ]
  },
  {
   "cell_type": "code",
   "execution_count": 8,
   "metadata": {},
   "outputs": [
    {
     "data": {
      "text/plain": [
       "0      South Korean officials questioned the accuracy...\n",
       "1      Morning briefing: Here's what you need to know...\n",
       "2      For today, April 21, here’s how to follow the ...\n",
       "3      Educators in the U.S. say they want to teach f...\n",
       "4      At least 26,000 more people died during the co...\n",
       "                             ...                        \n",
       "195    The FDA eased its rules and allowed antibody t...\n",
       "196    Many scientists and political leaders say the ...\n",
       "197    Our reporters spoke to dozens of people for th...\n",
       "198    Blood tests for coronavirus antibodies are see...\n",
       "199    North Korea denied President Trump’s claim tha...\n",
       "Name: tidy_tweet, Length: 200, dtype: object"
      ]
     },
     "execution_count": 8,
     "metadata": {},
     "output_type": "execute_result"
    }
   ],
   "source": [
    "# removing user handle \n",
    "df['tidy_tweet'] = df['text'].replace(to_replace ='(@[\\w]+)', value ='', regex = True) \n",
    "df['tidy_tweet'] = df['tidy_tweet'].replace(to_replace =('RT'), value ='',regex = True) \n",
    "df['tidy_tweet']"
   ]
  },
  {
   "cell_type": "markdown",
   "metadata": {},
   "source": [
    "##### REMOVE THE LINKS FROM THE TWEETS"
   ]
  },
  {
   "cell_type": "code",
   "execution_count": 9,
   "metadata": {},
   "outputs": [
    {
     "data": {
      "text/plain": [
       "0      South Korean officials questioned the accuracy...\n",
       "1      Morning briefing: Here's what you need to know...\n",
       "2      For today, April 21, here’s how to follow the ...\n",
       "3      Educators in the U.S. say they want to teach f...\n",
       "4      At least 26,000 more people died during the co...\n",
       "                             ...                        \n",
       "195    The FDA eased its rules and allowed antibody t...\n",
       "196    Many scientists and political leaders say the ...\n",
       "197    Our reporters spoke to dozens of people for th...\n",
       "198    Blood tests for coronavirus antibodies are see...\n",
       "199    North Korea denied President Trump’s claim tha...\n",
       "Name: tidy_tweet, Length: 200, dtype: object"
      ]
     },
     "execution_count": 9,
     "metadata": {},
     "output_type": "execute_result"
    }
   ],
   "source": [
    "#remove any links from the tweet: Links not required for performing sentiment analysis.\n",
    "df['tidy_tweet'] = df['tidy_tweet'].str.replace('((www\\.[\\s]+)|(https?://[^\\s]+))','\\0',regex=True)\n",
    "df['tidy_tweet']"
   ]
  },
  {
   "cell_type": "markdown",
   "metadata": {},
   "source": [
    "##### REMOVE SPECIAL CHARACTERS,PUNCTUATION,NUMBERS"
   ]
  },
  {
   "cell_type": "code",
   "execution_count": 10,
   "metadata": {},
   "outputs": [],
   "source": [
    "# remove special characters, numbers, punctuations: None of them would add any value to the sentiment score.\n",
    "df['tidy_tweet'] = df['tidy_tweet'].str.replace(\"[^a-zA-Z]+\", \" \")"
   ]
  },
  {
   "cell_type": "code",
   "execution_count": 11,
   "metadata": {},
   "outputs": [
    {
     "data": {
      "text/plain": [
       "0      South Korean officials questioned the accuracy...\n",
       "1      Morning briefing Here s what you need to know ...\n",
       "2      For today April here s how to follow the lates...\n",
       "3      Educators in the U S say they want to teach fr...\n",
       "4      At least more people died during the coronavir...\n",
       "                             ...                        \n",
       "195    The FDA eased its rules and allowed antibody t...\n",
       "196    Many scientists and political leaders say the ...\n",
       "197    Our reporters spoke to dozens of people for th...\n",
       "198    Blood tests for coronavirus antibodies are see...\n",
       "199    North Korea denied President Trump s claim tha...\n",
       "Name: tidy_tweet, Length: 200, dtype: object"
      ]
     },
     "execution_count": 11,
     "metadata": {},
     "output_type": "execute_result"
    }
   ],
   "source": [
    "df['tidy_tweet']"
   ]
  },
  {
   "cell_type": "markdown",
   "metadata": {},
   "source": [
    "##### TOKENIZING AND REMOVE THE STOP WORDS"
   ]
  },
  {
   "cell_type": "code",
   "execution_count": 12,
   "metadata": {},
   "outputs": [],
   "source": [
    "df[\"tidy_tweet\"] = df[\"tidy_tweet\"].str.lower()\n",
    "df[\"tidy_tweet\"] = df[\"tidy_tweet\"].str.split()\n",
    "from nltk.corpus import stopwords\n",
    "\n",
    "stop = stopwords.words('english')"
   ]
  },
  {
   "cell_type": "code",
   "execution_count": 13,
   "metadata": {},
   "outputs": [
    {
     "data": {
      "text/plain": [
       "0      [south, korean, officials, questioned, accurac...\n",
       "1            [morning, briefing, need, know, start, day]\n",
       "2      [today, april, follow, latest, coronavirus, ou...\n",
       "3      [educators, u, say, want, teach, home, coronav...\n",
       "4      [least, people, died, coronavirus, pandemic, l...\n",
       "                             ...                        \n",
       "195    [fda, eased, rules, allowed, antibody, tests, ...\n",
       "196    [many, scientists, political, leaders, say, co...\n",
       "197    [reporters, spoke, dozens, people, article, in...\n",
       "198    [blood, tests, coronavirus, antibodies, seen, ...\n",
       "199    [north, korea, denied, president, trump, claim...\n",
       "Name: tidy_tweet, Length: 200, dtype: object"
      ]
     },
     "execution_count": 13,
     "metadata": {},
     "output_type": "execute_result"
    }
   ],
   "source": [
    "df['tidy_tweet']=df['tidy_tweet'].apply(lambda x: [item for item in x if item not in stop])\n",
    "df['tidy_tweet']"
   ]
  },
  {
   "cell_type": "code",
   "execution_count": 14,
   "metadata": {},
   "outputs": [],
   "source": [
    "def rejoin_words(row):\n",
    "    my_list = row['tidy_tweet']\n",
    "    joined_words = ( \" \".join(my_list))\n",
    "    return joined_words\n",
    "\n",
    "df['tidy_tweet'] = df.apply(rejoin_words, axis=1)\n"
   ]
  },
  {
   "cell_type": "code",
   "execution_count": 15,
   "metadata": {},
   "outputs": [
    {
     "data": {
      "text/plain": [
       "0      south korean officials questioned accuracy new...\n",
       "1                   morning briefing need know start day\n",
       "2      today april follow latest coronavirus outbreak...\n",
       "3      educators u say want teach home coronavirus pa...\n",
       "4      least people died coronavirus pandemic last mo...\n",
       "                             ...                        \n",
       "195    fda eased rules allowed antibody tests many ma...\n",
       "196    many scientists political leaders say country ...\n",
       "197    reporters spoke dozens people article includin...\n",
       "198    blood tests coronavirus antibodies seen crucia...\n",
       "199    north korea denied president trump claim leade...\n",
       "Name: tidy_tweet, Length: 200, dtype: object"
      ]
     },
     "execution_count": 15,
     "metadata": {},
     "output_type": "execute_result"
    }
   ],
   "source": [
    "df['tidy_tweet']"
   ]
  },
  {
   "cell_type": "markdown",
   "metadata": {},
   "source": [
    "##### LEMMATIZATION"
   ]
  },
  {
   "cell_type": "code",
   "execution_count": 16,
   "metadata": {},
   "outputs": [],
   "source": [
    "import nltk\n",
    "w_tokenizer = nltk.tokenize.WhitespaceTokenizer()\n",
    "lemmatizer = nltk.stem.WordNetLemmatizer()\n",
    "\n",
    "def lemmatize_text(text):\n",
    "    return [lemmatizer.lemmatize(w) for w in w_tokenizer.tokenize(text)]\n",
    "\n",
    "df['tidy_tweet'] = df['tidy_tweet'].apply(lemmatize_text)"
   ]
  },
  {
   "cell_type": "code",
   "execution_count": 17,
   "metadata": {},
   "outputs": [
    {
     "data": {
      "text/plain": [
       "0      [south, korean, official, questioned, accuracy...\n",
       "1            [morning, briefing, need, know, start, day]\n",
       "2      [today, april, follow, latest, coronavirus, ou...\n",
       "3      [educator, u, say, want, teach, home, coronavi...\n",
       "4      [least, people, died, coronavirus, pandemic, l...\n",
       "                             ...                        \n",
       "195    [fda, eased, rule, allowed, antibody, test, ma...\n",
       "196    [many, scientist, political, leader, say, coun...\n",
       "197    [reporter, spoke, dozen, people, article, incl...\n",
       "198    [blood, test, coronavirus, antibody, seen, cru...\n",
       "199    [north, korea, denied, president, trump, claim...\n",
       "Name: tidy_tweet, Length: 200, dtype: object"
      ]
     },
     "execution_count": 17,
     "metadata": {},
     "output_type": "execute_result"
    }
   ],
   "source": [
    "df['tidy_tweet']"
   ]
  },
  {
   "cell_type": "code",
   "execution_count": 18,
   "metadata": {},
   "outputs": [],
   "source": [
    "def rejoin_words(row):\n",
    "    my_list = row['tidy_tweet']\n",
    "    joined_words = ( \" \".join(my_list))\n",
    "    return joined_words\n",
    "\n",
    "df['tidy_tweet'] = df.apply(rejoin_words, axis=1)"
   ]
  },
  {
   "cell_type": "code",
   "execution_count": 19,
   "metadata": {},
   "outputs": [
    {
     "data": {
      "text/plain": [
       "0      south korean official questioned accuracy news...\n",
       "1                   morning briefing need know start day\n",
       "2      today april follow latest coronavirus outbreak...\n",
       "3      educator u say want teach home coronavirus pan...\n",
       "4      least people died coronavirus pandemic last mo...\n",
       "                             ...                        \n",
       "195    fda eased rule allowed antibody test many made...\n",
       "196    many scientist political leader say country no...\n",
       "197    reporter spoke dozen people article including ...\n",
       "198    blood test coronavirus antibody seen crucial a...\n",
       "199    north korea denied president trump claim leade...\n",
       "Name: tidy_tweet, Length: 200, dtype: object"
      ]
     },
     "execution_count": 19,
     "metadata": {},
     "output_type": "execute_result"
    }
   ],
   "source": [
    "df['tidy_tweet']"
   ]
  },
  {
   "cell_type": "code",
   "execution_count": 20,
   "metadata": {},
   "outputs": [
    {
     "data": {
      "text/plain": [
       "tweet_id      0\n",
       "text          0\n",
       "time          0\n",
       "source        0\n",
       "retweets      0\n",
       "favorites     0\n",
       "tidy_tweet    0\n",
       "dtype: int64"
      ]
     },
     "execution_count": 20,
     "metadata": {},
     "output_type": "execute_result"
    }
   ],
   "source": [
    "df.isnull().sum()"
   ]
  },
  {
   "cell_type": "markdown",
   "metadata": {},
   "source": [
    "##### CHECK THE SENTIMENT USING TEXTBLOB "
   ]
  },
  {
   "cell_type": "code",
   "execution_count": 21,
   "metadata": {},
   "outputs": [],
   "source": [
    "from textblob import TextBlob\n",
    "df[['polarity', 'subjectivity']] = df['tidy_tweet'].apply(lambda Text: pd.Series(TextBlob(Text).sentiment))"
   ]
  },
  {
   "cell_type": "code",
   "execution_count": 22,
   "metadata": {},
   "outputs": [
    {
     "data": {
      "text/html": [
       "<div>\n",
       "<style scoped>\n",
       "    .dataframe tbody tr th:only-of-type {\n",
       "        vertical-align: middle;\n",
       "    }\n",
       "\n",
       "    .dataframe tbody tr th {\n",
       "        vertical-align: top;\n",
       "    }\n",
       "\n",
       "    .dataframe thead th {\n",
       "        text-align: right;\n",
       "    }\n",
       "</style>\n",
       "<table border=\"1\" class=\"dataframe\">\n",
       "  <thead>\n",
       "    <tr style=\"text-align: right;\">\n",
       "      <th></th>\n",
       "      <th>text</th>\n",
       "      <th>polarity</th>\n",
       "      <th>subjectivity</th>\n",
       "    </tr>\n",
       "  </thead>\n",
       "  <tbody>\n",
       "    <tr>\n",
       "      <th>0</th>\n",
       "      <td>South Korean officials questioned the accuracy...</td>\n",
       "      <td>0.000000</td>\n",
       "      <td>0.000000</td>\n",
       "    </tr>\n",
       "    <tr>\n",
       "      <th>1</th>\n",
       "      <td>Morning briefing: Here's what you need to know...</td>\n",
       "      <td>0.000000</td>\n",
       "      <td>0.000000</td>\n",
       "    </tr>\n",
       "    <tr>\n",
       "      <th>2</th>\n",
       "      <td>For today, April 21, here’s how to follow the ...</td>\n",
       "      <td>0.500000</td>\n",
       "      <td>0.900000</td>\n",
       "    </tr>\n",
       "    <tr>\n",
       "      <th>3</th>\n",
       "      <td>Educators in the U.S. say they want to teach f...</td>\n",
       "      <td>0.000000</td>\n",
       "      <td>0.000000</td>\n",
       "    </tr>\n",
       "    <tr>\n",
       "      <th>4</th>\n",
       "      <td>At least 26,000 more people died during the co...</td>\n",
       "      <td>-0.150000</td>\n",
       "      <td>0.233333</td>\n",
       "    </tr>\n",
       "    <tr>\n",
       "      <th>...</th>\n",
       "      <td>...</td>\n",
       "      <td>...</td>\n",
       "      <td>...</td>\n",
       "    </tr>\n",
       "    <tr>\n",
       "      <th>195</th>\n",
       "      <td>The FDA eased its rules and allowed antibody t...</td>\n",
       "      <td>0.500000</td>\n",
       "      <td>0.500000</td>\n",
       "    </tr>\n",
       "    <tr>\n",
       "      <th>196</th>\n",
       "      <td>Many scientists and political leaders say the ...</td>\n",
       "      <td>0.166667</td>\n",
       "      <td>0.366667</td>\n",
       "    </tr>\n",
       "    <tr>\n",
       "      <th>197</th>\n",
       "      <td>Our reporters spoke to dozens of people for th...</td>\n",
       "      <td>0.000000</td>\n",
       "      <td>0.000000</td>\n",
       "    </tr>\n",
       "    <tr>\n",
       "      <th>198</th>\n",
       "      <td>Blood tests for coronavirus antibodies are see...</td>\n",
       "      <td>0.000000</td>\n",
       "      <td>1.000000</td>\n",
       "    </tr>\n",
       "    <tr>\n",
       "      <th>199</th>\n",
       "      <td>North Korea denied President Trump’s claim tha...</td>\n",
       "      <td>0.000000</td>\n",
       "      <td>0.000000</td>\n",
       "    </tr>\n",
       "  </tbody>\n",
       "</table>\n",
       "<p>200 rows × 3 columns</p>\n",
       "</div>"
      ],
      "text/plain": [
       "                                                  text  polarity  subjectivity\n",
       "0    South Korean officials questioned the accuracy...  0.000000      0.000000\n",
       "1    Morning briefing: Here's what you need to know...  0.000000      0.000000\n",
       "2    For today, April 21, here’s how to follow the ...  0.500000      0.900000\n",
       "3    Educators in the U.S. say they want to teach f...  0.000000      0.000000\n",
       "4    At least 26,000 more people died during the co... -0.150000      0.233333\n",
       "..                                                 ...       ...           ...\n",
       "195  The FDA eased its rules and allowed antibody t...  0.500000      0.500000\n",
       "196  Many scientists and political leaders say the ...  0.166667      0.366667\n",
       "197  Our reporters spoke to dozens of people for th...  0.000000      0.000000\n",
       "198  Blood tests for coronavirus antibodies are see...  0.000000      1.000000\n",
       "199  North Korea denied President Trump’s claim tha...  0.000000      0.000000\n",
       "\n",
       "[200 rows x 3 columns]"
      ]
     },
     "execution_count": 22,
     "metadata": {},
     "output_type": "execute_result"
    }
   ],
   "source": [
    "df[['text','polarity', 'subjectivity']]"
   ]
  },
  {
   "cell_type": "code",
   "execution_count": 23,
   "metadata": {},
   "outputs": [],
   "source": [
    "single_tweet=df['text'][100]\n",
    "tidy_tweet1=df['tidy_tweet'][100]"
   ]
  },
  {
   "cell_type": "code",
   "execution_count": 25,
   "metadata": {},
   "outputs": [
    {
     "name": "stdout",
     "output_type": "stream",
     "text": [
      "Do environmental rules matter? “As a reporter in Washington for more than 20 years, I’ve had a front-row seat to th… https://t.co/mOu6rdx6W6\n",
      "Negative Sentiment\n"
     ]
    }
   ],
   "source": [
    "from textblob.sentiments import NaiveBayesAnalyzer\n",
    "analysis = TextBlob(tidy_tweet1,analyzer=NaiveBayesAnalyzer())\n",
    "print(single_tweet)\n",
    "sentiment=analysis.sentiment[0]\n",
    "if sentiment == 'pos':\n",
    "    print('Positive Sentiment')\n",
    "else :\n",
    "    print('Negative Sentiment')\n"
   ]
  }
 ],
 "metadata": {
  "kernelspec": {
   "display_name": "Python 3",
   "language": "python",
   "name": "python3"
  },
  "language_info": {
   "codemirror_mode": {
    "name": "ipython",
    "version": 3
   },
   "file_extension": ".py",
   "mimetype": "text/x-python",
   "name": "python",
   "nbconvert_exporter": "python",
   "pygments_lexer": "ipython3",
   "version": "3.7.6"
  }
 },
 "nbformat": 4,
 "nbformat_minor": 4
}
